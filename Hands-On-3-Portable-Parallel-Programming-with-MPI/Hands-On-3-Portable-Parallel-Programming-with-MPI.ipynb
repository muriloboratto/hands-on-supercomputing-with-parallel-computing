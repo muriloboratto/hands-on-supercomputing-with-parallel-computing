{
 "cells": [
  {
   "cell_type": "markdown",
   "id": "92f1ef18",
   "metadata": {},
   "source": [
    "# Hands-On 3: Parallelization with MPI"
   ]
  },
  {
   "cell_type": "markdown",
   "id": "d7c24d6e",
   "metadata": {},
   "source": [
    "Welcome to Hands-on _Parallelization with MPI_. This Hands-on comprises 3 sessions. Next table shows the documents and\n",
    "files needed to develop each one of the exercises."
   ]
  },
  {
   "cell_type": "markdown",
   "id": "e01d9803-6dee-44aa-8bb1-ce51765b0616",
   "metadata": {},
   "source": [
    "|  Sessions     | Codes               | files              | \n",
    "| --------------| --------------------| ------------------ |\n",
    "| Session 1     |  Basic Operations   |   operations.c   | \n",
    "| Session 2     | Algebraic Function  |  function.c      | \n",
    "| Session 3     |  Tridiagonal Matrix |   tridiagonal.c  | \n"
   ]
  },
  {
   "cell_type": "markdown",
   "id": "a674a951",
   "metadata": {
    "tags": []
   },
   "source": [
    "## `Basic Operations`"
   ]
  },
  {
   "cell_type": "markdown",
   "id": "b13c9861",
   "metadata": {},
   "source": [
    "The Algorithm below solves the multiplication, addition and subtraction of the elements of a vector of integers. The variable array is the vector on which the operations will be performed. Then, modify the program to run in parallel using MPI. Present the primitives used. The idea is made the following MPI version with only $4$ processes running.In the version, each process does a function: $1$ add, $1$ subtract and $1$ multiplies. The other process is responsible for telling each of the other $3$ its function, and when finished printing the results."
   ]
  },
  {
   "cell_type": "code",
   "execution_count": null,
   "id": "b72903bc-7fd4-4e56-8281-d3e3986d9d0c",
   "metadata": {},
   "outputs": [],
   "source": [
    "%%writefile operations.c\n",
    "#include <stdio.h> \n",
    "#define SIZE 12\n",
    "\n",
    "int main (int argc, char **argv)\n",
    "{\n",
    " int i, sum = 0, subtraction = 0, mult = 1; \n",
    " int array[SIZE];\n",
    "\n",
    " for(i = 0; i < SIZE; i++) \n",
    "  array[i] = i + 1;\n",
    "\n",
    " for(i = 0; i < SIZE; i++)\n",
    "   printf(\"array[%d] = %d\\n\", i, array[i]);\n",
    "\n",
    " for(i = 0; i < SIZE; i++) \n",
    " {\n",
    "   sum = sum + array[i];\n",
    "   subtraction = subtraction - array[i]; \n",
    "   mult = mult * array[i];\n",
    " }\n",
    "\n",
    " printf(\"Sum = %d\\n\", sum); \n",
    " printf(\"Subtraction = %d\\n\", subtraction); \n",
    " printf(\"Multiply = %d\\n\", mult);\n",
    "\n",
    " return 0;\n",
    "\n",
    "}"
   ]
  },
  {
   "cell_type": "markdown",
   "id": "c25f9fac-4e5d-4d0b-9e48-99e7181f8a73",
   "metadata": {},
   "source": [
    "### Run the Code"
   ]
  },
  {
   "cell_type": "code",
   "execution_count": null,
   "id": "b77d58de-a897-4ee6-b5b6-fa0be55cfe21",
   "metadata": {},
   "outputs": [],
   "source": [
    "!gcc operations.c -o operations "
   ]
  },
  {
   "cell_type": "code",
   "execution_count": null,
   "id": "f77896ee-490c-4c9a-9d32-22c73d9dd469",
   "metadata": {},
   "outputs": [],
   "source": [
    "!./operations"
   ]
  },
  {
   "cell_type": "markdown",
   "id": "be567e12",
   "metadata": {},
   "source": [
    "## `Algebraic Function`"
   ]
  },
  {
   "cell_type": "markdown",
   "id": "33fe75ce",
   "metadata": {},
   "source": [
    "The idea of this Hands-on is to make an algorithm that uses the\n",
    "`MPI_Recv` and `MPI_Send` routines in the Master-Worker Paradigm in such\n",
    "a way that in the sequential code:"
   ]
  },
  {
   "cell_type": "code",
   "execution_count": null,
   "id": "c0f91e78-8c2a-4ce1-8d6b-90a50ca1401b",
   "metadata": {},
   "outputs": [],
   "source": [
    "%%writefile function.c\n",
    "#include <stdio.h>\n",
    "\n",
    "int main (int argc, char **argv)\n",
    "{\n",
    "  double coef[4], total, x;   \n",
    "  char c;\n",
    "\n",
    "  printf (\"\\nf(x) = a*x^3 + b*x^2 + c*x + d\\n\");          \n",
    "            \n",
    "  coef[0] = 1;\n",
    "  coef[1] = 2;  \n",
    "  coef[2] = 3;\n",
    "  coef[3] = 4;\n",
    "  \n",
    "  printf(\"\\nf(x)=%lf*x^3+%lf*x^2+%lf*x+%lf\\n\", coef[0], coef[1], coef[2], coef[3]);\n",
    "\n",
    "  x = 10;\n",
    "\n",
    "  total = (coef[0]* x * x * x) + (coef[1]* x * x) + (coef[2]* x + coef[3]); \n",
    "    \n",
    "  printf(\"\\nf(%lf) = %lf*x^3 + %lf*x^2 + %lf*x + %lf = %lf\\n\", x, coef[0], coef[1], coef[2], coef[3], total);\n",
    "    \n",
    "  return 0;\n",
    "    \n",
    "}"
   ]
  },
  {
   "cell_type": "markdown",
   "id": "bf967504-a3fd-48af-8f06-f1806b156548",
   "metadata": {},
   "source": [
    "### Run the Code"
   ]
  },
  {
   "cell_type": "code",
   "execution_count": null,
   "id": "fcf9f267-0e70-45f0-9353-cf632a478cbc",
   "metadata": {},
   "outputs": [],
   "source": [
    "!gcc function.c -o function"
   ]
  },
  {
   "cell_type": "code",
   "execution_count": null,
   "id": "1805d761-a421-4783-87c0-61ca5f134ed2",
   "metadata": {},
   "outputs": [],
   "source": [
    "!./function"
   ]
  },
  {
   "cell_type": "markdown",
   "id": "4c283708-51ca-42ff-b74b-0bfa30520332",
   "metadata": {
    "tags": []
   },
   "source": [
    "## `Tridiagonal Matrix`"
   ]
  },
  {
   "cell_type": "code",
   "execution_count": null,
   "id": "57f34242-b01c-4a4d-a20c-3b285fd2f041",
   "metadata": {},
   "outputs": [],
   "source": [
    "%%writefile tridiagonal.c\n",
    "#include <stdio.h>\n",
    "#define ORDER 4\n",
    "\n",
    "void printMatrix (int m[][ORDER]) \n",
    "{\n",
    "  int i, j;\n",
    "  for(i = 0; i < ORDER; i++) {\n",
    "    printf (\"| \");\n",
    "    for (j = 0; j < ORDER; j++) {\n",
    "      printf (\"%3d \", m[i][j]);\n",
    "    }\n",
    "    printf (\"|\\n\");\n",
    "  }\n",
    "  printf (\"\\n\");\n",
    "}\n",
    "\n",
    "int main (int argc, char **argv)\n",
    "{\n",
    "  int k[3] = {100, 200, 300};\n",
    "  int matrix[ORDER][ORDER], i, j;\n",
    "\n",
    "  for(i = 0; i < ORDER; i++) \n",
    "  {\n",
    "    for(j = 0; j < ORDER; j++) \n",
    "    {\n",
    "      if( i == j )\n",
    "        matrix[i][j] = i + j +1;\n",
    "      else if(i == (j + 1)) \n",
    "      {\n",
    "        matrix[i][j] = i +  j + 1;\n",
    "        matrix[j][i] = matrix[i][j];\n",
    "      } else\n",
    "           matrix[i][j] = 0;\n",
    "     }\n",
    "  }\n",
    "  printMatrix(matrix);\n",
    "\n",
    "  for(i = 0; i < ORDER; i++)\n",
    "  {\n",
    "    matrix[i][i]     += k[0];    //main diagonal\n",
    "    matrix[i + 1][i] += k[1];    //subdiagonal\n",
    "    matrix[i][i + 1] += k[2];    //superdiagonal\n",
    "  }\n",
    "  \n",
    "   printMatrix(matrix);\n",
    "\n",
    "  return 0;\n",
    "}"
   ]
  },
  {
   "cell_type": "markdown",
   "id": "516d8529-8213-446f-a518-e2f6a6124aba",
   "metadata": {},
   "source": [
    "### Run the Code"
   ]
  },
  {
   "cell_type": "code",
   "execution_count": null,
   "id": "fdb67c90-8caa-4f42-9ec5-174c5add5ed1",
   "metadata": {},
   "outputs": [],
   "source": [
    "!gcc tridiagonal.c -o tridiagonal "
   ]
  },
  {
   "cell_type": "code",
   "execution_count": null,
   "id": "30e01571-7a54-4eab-87b7-0b49e539e4b4",
   "metadata": {},
   "outputs": [],
   "source": [
    "!./tridiagonal"
   ]
  },
  {
   "cell_type": "markdown",
   "id": "ad055c0c-b24d-4d0f-8b8c-3093b0c601b5",
   "metadata": {
    "tags": []
   },
   "source": [
    "## References"
   ]
  },
  {
   "cell_type": "markdown",
   "id": "a5fdf090-9dd3-491b-947f-81af7b8af818",
   "metadata": {},
   "source": [
    "M. Boratto. Hands-On Supercomputing with Parallel Computing. Available: https://github.com/muriloboratto/Hands-On-Supercomputing-with-Parallel-Computing. 2022."
   ]
  },
  {
   "cell_type": "markdown",
   "id": "6a02e6bc-84d6-44d4-bb66-2a98941d08d0",
   "metadata": {},
   "source": [
    "B. Chapman, G. Jost and R. Pas. Using OpenMP: Portable Shared Memory Parallel Programming. The MIT Press, 2007, USA."
   ]
  }
 ],
 "metadata": {
  "kernelspec": {
   "display_name": "Python 3 (ipykernel)",
   "language": "python",
   "name": "python3"
  },
  "language_info": {
   "codemirror_mode": {
    "name": "ipython",
    "version": 3
   },
   "file_extension": ".py",
   "mimetype": "text/x-python",
   "name": "python",
   "nbconvert_exporter": "python",
   "pygments_lexer": "ipython3",
   "version": "3.8.8"
  }
 },
 "nbformat": 4,
 "nbformat_minor": 5
}
