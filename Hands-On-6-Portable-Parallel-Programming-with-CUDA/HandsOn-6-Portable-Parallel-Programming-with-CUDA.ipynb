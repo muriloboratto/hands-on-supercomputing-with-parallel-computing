{
 "cells": [
  {
   "cell_type": "markdown",
   "id": "5aff66a6-3d99-4cb7-aef3-471aca80301e",
   "metadata": {},
   "source": [
    "# Hands-On 6: Portable Parallel Programming with CUDA"
   ]
  },
  {
   "cell_type": "markdown",
   "id": "33bf90fe",
   "metadata": {},
   "source": [
    "This Hands-on comprises $2$ sessions. Next table shows the documents and files needed to develop each one of the exercises.\n",
    "\n",
    "|  Sessions | Codes                              | files                        | \n",
    "|:----------|:-----------------------------------|:-----------------------------|\n",
    "| Session 1 | Portable Sequential Code           | saxpy.c, and saxpy.cu    |\n",
    "| Session 2 | Unified Memory (cudaMallocManaged) | saxpy-cudaMallocManaged.cu |\n"
   ]
  },
  {
   "cell_type": "markdown",
   "id": "26eb3b74-e057-4432-9617-64f3ef61477a",
   "metadata": {},
   "source": [
    "## `Add Vectors Benchmark`\n",
    "\n",
    "This subprograms perform the following computation, using the scalar $\\alpha$ and vectors $x$ and $y$:\n",
    "\n",
    "$$z = \\alpha x + y,$$\n",
    "\n",
    "where $x$, $y$, and $z$ are vectors and $\\alpha$ is scalar. SAXPY stands for Single-Precision it is a function in the standard Basic Linear Algebra Subroutines (BLAS) library. SAXPY is a combination of scalar multiplication and vector addition, and it is very simple: it takes as\n",
    "input two vectors of 32-bit floats $x$ and $y$ with $n$ elements each, and a scalar value $\\alpha$. It multiplies each element $x[i]$ by $\\alpha$ and adds the result to $y[i]$. A simple C implementation looks like this."
   ]
  },
  {
   "cell_type": "code",
   "execution_count": null,
   "id": "c086de9a-1313-4788-a5f6-20753781bee5",
   "metadata": {},
   "outputs": [],
   "source": [
    "%%writefile saxpy.c\n",
    "#include <stdio.h>\n",
    "#include <stdlib.h>\n",
    "\n",
    "void saxpy(int n,  float *x, float *y)\n",
    "{\n",
    " for (int i=0; i < n ; ++i)\n",
    "  y[i] = x[i] + y[i];\n",
    "}\n",
    "\n",
    "void printVector(float *vector, int n)\n",
    "{\n",
    "\n",
    " for (int i=0; i < n ; ++i)\n",
    "  printf(\"%1.0f\\t\", vector[i]);\n",
    "\n",
    "  printf(\"\\n\\n\");\n",
    "}\n",
    "\n",
    "void generateVector(float *vector, int n)\n",
    "{\n",
    " for (int i=0; i < n ; ++i)\n",
    "  vector[i] = i + 1;\n",
    "}\n",
    "\n",
    "int main(int argc, char *argv[])\n",
    "{\n",
    "  int n = atoi(argv[1]);   \n",
    "  float *x,*y;\n",
    "\n",
    "  x = (float*) malloc(sizeof(float) * n);\n",
    "  y = (float*) malloc(sizeof(float) * n);\n",
    " \n",
    "  generateVector(x, n);\n",
    "  printVector(x, n);\n",
    "\n",
    "  generateVector(y, n);\n",
    "  printVector(y, n);\n",
    "\n",
    "  saxpy(n, x, y);\n",
    "  printVector(y, n);\n",
    " \n",
    "  free(x);\n",
    "  free(y);\n",
    "\n",
    "  return 0;\n",
    "\n",
    "}"
   ]
  },
  {
   "cell_type": "markdown",
   "id": "64ef67a7-4ab2-4b9c-b1cc-a654c009922c",
   "metadata": {},
   "source": [
    "## Run the Code "
   ]
  },
  {
   "cell_type": "code",
   "execution_count": null,
   "id": "0a32f54a-c29e-4dc4-8ea9-696e4c6931f8",
   "metadata": {},
   "outputs": [],
   "source": [
    "!gcc saxpy.c -o saxpy "
   ]
  },
  {
   "cell_type": "code",
   "execution_count": null,
   "id": "37c1dfb0-b8b8-4286-ae5b-ebc7d3fa8f4b",
   "metadata": {},
   "outputs": [],
   "source": [
    "!./saxpy 8"
   ]
  },
  {
   "cell_type": "markdown",
   "id": "195dcbd0-d193-4f80-b41a-10abcc9296e9",
   "metadata": {},
   "source": [
    "## `Unified Memory (cudaMallocManaged)`"
   ]
  },
  {
   "cell_type": "markdown",
   "id": "d465562c-5ca7-4ae8-9251-6062f0bb5e70",
   "metadata": {},
   "source": [
    "The program in `saxpy-cudaMallocManaged.cu` allocates memory, using `cudaMallocManaged` for a $n$ elements array of integers, and then seeks to initialize all the values of the array in parallel using a CUDA kernel."
   ]
  },
  {
   "cell_type": "code",
   "execution_count": null,
   "id": "63a6a8c0-7d93-4239-9082-14477fc3aac2",
   "metadata": {},
   "outputs": [],
   "source": [
    "%%writefile saxpy-cudaMallocManaged.cu\n",
    "#include <stdio.h>\n",
    "#include <stdlib.h>\n",
    "#include <cuda.h>\n",
    "\n",
    "__global__ void saxpy(int n,  float *x, float *y){\n",
    " int i = threadIdx.x;\n",
    " if(i < n)\n",
    "   y[i] = x[i] + y[i];\n",
    "}\n",
    "\n",
    "void printVector(float *vector, int n){\n",
    "for (int i=0; i < n ; ++i)\n",
    " printf(\"%1.0f\\t\", vector[i]);\n",
    "printf(\"\\n\\n\");\n",
    "}\n",
    "\n",
    "void generateVector(float *vector, int n){\n",
    "for (int i=0; i < n ; ++i)\n",
    " vector[i] = i + 1;\n",
    "}\n",
    "\n",
    "int main(int argc, char *argv[]){\n",
    "  int n = atoi(argv[1]);   \n",
    "  float *x,*y;\n",
    "\n",
    "  cudaMallocManaged(&x, sizeof(float) * n);\n",
    "  cudaMallocManaged(&y, sizeof(float) * n);\n",
    " \n",
    "  generateVector(x, n);\n",
    "  printVector(x, n);\n",
    "  generateVector(y, n);\n",
    "  printVector(y, n);\n",
    "  \n",
    "  int NUMBER_OF_BLOCKS = 1;\n",
    "  int NUMBER_OF_THREADS_PER_BLOCK = n;\n",
    "  \n",
    "  saxpy <<< NUMBER_OF_BLOCKS, NUMBER_OF_THREADS_PER_BLOCK >>> (n, x, y);\n",
    "  \n",
    "  cudaDeviceSynchronize();\n",
    "\n",
    "  printVector(y, n);\n",
    " \n",
    "  cudaFree(x);\n",
    "  cudaFree(y);\n",
    "\n",
    "  return 0;\n",
    "}"
   ]
  },
  {
   "cell_type": "markdown",
   "id": "e66fa38f-dd55-4127-9b6d-266704484da0",
   "metadata": {},
   "source": [
    "## Run the Code "
   ]
  },
  {
   "cell_type": "code",
   "execution_count": null,
   "id": "5d592464-2ab8-431f-b869-6c8a9fd81dad",
   "metadata": {},
   "outputs": [],
   "source": [
    "!nvcc saxpy-cudaMallocManaged.cu -o saxpy-cudaMallocManaged "
   ]
  },
  {
   "cell_type": "code",
   "execution_count": null,
   "id": "352aeb31-ef3d-4bc4-8873-94535886b055",
   "metadata": {},
   "outputs": [],
   "source": [
    "!./saxpy-cudaMallocManaged 8"
   ]
  },
  {
   "cell_type": "markdown",
   "id": "181fc27e-22a5-423f-be01-e2e055adc2fa",
   "metadata": {
    "tags": []
   },
   "source": [
    "## References"
   ]
  },
  {
   "cell_type": "markdown",
   "id": "332627cc-a1b3-4d13-854f-5e621ddc264b",
   "metadata": {},
   "source": [
    "M. Boratto. Hands-On Supercomputing with Parallel Computing. Available: https://github.com/muriloboratto/Hands-On-Supercomputing-with-Parallel-Computing. 2022."
   ]
  }
 ],
 "metadata": {
  "kernelspec": {
   "display_name": "Python 3 (ipykernel)",
   "language": "python",
   "name": "python3"
  },
  "language_info": {
   "codemirror_mode": {
    "name": "ipython",
    "version": 3
   },
   "file_extension": ".py",
   "mimetype": "text/x-python",
   "name": "python",
   "nbconvert_exporter": "python",
   "pygments_lexer": "ipython3",
   "version": "3.8.8"
  }
 },
 "nbformat": 4,
 "nbformat_minor": 5
}
