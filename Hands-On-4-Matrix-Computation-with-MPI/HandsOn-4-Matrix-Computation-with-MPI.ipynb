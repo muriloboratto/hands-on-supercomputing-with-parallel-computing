{
 "cells": [
  {
   "cell_type": "markdown",
   "id": "e3854c4f-3a65-488f-a0de-40dd2b69fdb5",
   "metadata": {},
   "source": [
    "# Hands-On 4: Matrix Computation with MPI"
   ]
  },
  {
   "cell_type": "markdown",
   "id": "d630cc1b-00a9-445f-8fbf-b15abf366181",
   "metadata": {},
   "source": [
    "Welcome to Hands-on _Matrix Computation with MPI_. This Hands-on comprises 1 session. Next table shows the document and file needed to develop each one of the exercises."
   ]
  },
  {
   "cell_type": "markdown",
   "id": "86c18031-831e-458b-af24-d01ffa7a6f4c",
   "metadata": {},
   "source": [
    "|  Sessions     | Codes               | files              | \n",
    "| --------------| --------------------| ------------------ |\n",
    "| Session 1     |  LU Factorization   |   lu.c   | "
   ]
  },
  {
   "cell_type": "markdown",
   "id": "c99e0827-88ce-4bb4-9161-9eca45b2b682",
   "metadata": {},
   "source": [
    "# `LU Factorization`\n",
    "\n",
    "This last practice focuses on the parallel implementation of a more advanced numerical problem using the MPI environment that implements the MPI (Message Passing Interface) message passing standard. The objective of the practice is to face a more significant problem with more room for\n",
    "improvement. This practice consists of $2$ objectives:\n",
    "\n",
    "1.  Study of the problem and implementation of the parallel version.\n",
    "\n",
    "2.  Improvement of the cyclical parallel version and experimental\n",
    "    measurement of performance.\n",
    "\n",
    "The practice will start from the sequential and parallel version by blocks of rows found in the cloud, and will have to be modified to include a cyclical distribution by rows."
   ]
  },
  {
   "cell_type": "markdown",
   "id": "10d08090-594a-47e9-a89c-836c867bca15",
   "metadata": {},
   "source": [
    "## Description of the problem\n",
    "\n",
    "A system of equations $Ax=b$ has a unique solution (compatible and determined) when the coefficient matrix has a nonzero determinant. Several direct and iterative techniques for solving equations highlight the LU factorization among the natural methods.\n",
    "\n",
    "The LU factorization consists of obtaining a pair of matrices, a lower triangular unit (all elements above the main diagonal to zero and the main diagonal itself to one) and another upper triangular (all elements above the diagonal zero and no restrictions on the main diagonal), both\n",
    "of the same dimension as the starting matrix.\n",
    "\n",
    "In this way, the resolution of the system of equations is equivalent to the solution of two triangular systems, the programming of which is well known. \n",
    "\n",
    "<br>\n",
    "\n",
    "$$\\left.\\begin{array}{c}A=LU\\\\Ax=b\\end{array}\\right\\}\n",
    "\\quad\\longrightarrow\\quad\n",
    "LUx=b\n",
    "\\quad\\longrightarrow\\quad\n",
    "\\left\\{\\begin{array}{c}Ly=b\\\\Ux=y\\end{array}\\right..$$\n",
    "\n",
    "The calculation of the LU decomposition can be performed by Gaussian\n",
    "factorization, using the diagonal elements of the matrix as pivots and\n",
    "making zeros below the diagonal in each column.\n",
    "\n",
    "The triangular systems can be solved by applying progressive elimination\n",
    "algorithms (for the case of the lower unit triangular matrix) back\n",
    "substitution (for the case of the upper triangular matrix)."
   ]
  },
  {
   "cell_type": "markdown",
   "id": "bc160cc5",
   "metadata": {
    "tags": []
   },
   "source": [
    "## Sequential Implementation"
   ]
  },
  {
   "cell_type": "code",
   "execution_count": null,
   "id": "55f50be2-d10b-4c5c-8d40-c9d51a5bc9ae",
   "metadata": {},
   "outputs": [],
   "source": [
    "%%writefile lu.c\n",
    "#include <stdio.h>\n",
    "#include <stdlib.h>\n",
    "#include <string.h>\n",
    "\n",
    "/* generates a A*X=B problem in which all value for X are 1 */\n",
    "void generate_ab_problem(int size, double **a_matrix, double *b_array)\n",
    "{\n",
    "    int r, c;\n",
    "    for (r = 0; r < size; r++)\n",
    "    {\n",
    "        int sum = 0;\n",
    "        for (c = 0; c < size; c++)\n",
    "        {\n",
    "            int coefficient = -5 + (rand() % 11);\n",
    "            sum += coefficient;\n",
    "            a_matrix[r][c] = coefficient;\n",
    "        }\n",
    "        b_array[r] = sum;\n",
    "    }\n",
    "}\n",
    "\n",
    "double **alloc_matrix(int size)\n",
    "{\n",
    "    double **matrix = (double **)calloc(size, sizeof(double *));\n",
    "    double *matrix_values = (double *)calloc(size * size, sizeof(double));\n",
    "    int i;\n",
    "\n",
    "    for (i = 0; i < size; i++)\n",
    "        matrix[i] = (matrix_values + size * i);\n",
    "\n",
    "    return matrix;\n",
    "}\n",
    "\n",
    "double *alloc_array(int size)\n",
    "{\n",
    "    return (double *)calloc(size, sizeof(double));\n",
    "}\n",
    "\n",
    "void print_matrix(double **matrix, int size)\n",
    "{\n",
    "    int r, c;\n",
    "    for (r = 0; r < size; r++)\n",
    "    {\n",
    "        for (c = 0; c < size; c++)\n",
    "            printf(\"%.2f\\t\", matrix[r][c]);\n",
    "        printf(\"\\n\");\n",
    "    }\n",
    "}\n",
    "\n",
    "void print_array(double *array, int size)\n",
    "{\n",
    "    int i;\n",
    "    for (i = 0; i < size; i++)\n",
    "        printf(\"%.2f\\t\", array[i]);\n",
    "    printf(\"\\n\");\n",
    "}\n",
    "\n",
    "/* performs LU decomposition in place */\n",
    "void lu_decompose(double **matrix, int size)\n",
    "{\n",
    "    int r, c;\n",
    "\n",
    "    for (c = 0; c < size; c++)\n",
    "    {\n",
    "        for (r = c + 1; r < size; r++)\n",
    "        {\n",
    "            double factor = matrix[r][c] / matrix[c][c];\n",
    "            matrix[r][c] = factor;\n",
    "\n",
    "            int cc;\n",
    "            for (cc = c + 1; cc < size; cc++)\n",
    "                matrix[r][cc] -= matrix[c][cc] * factor;\n",
    "        }\n",
    "    }\n",
    "}\n",
    "\n",
    "/* solves L*Y=B for Y using progressive elimination */\n",
    "void solve_lyb(double **l_matrix, int size, double *y_array, double *b_array)\n",
    "{\n",
    "    int r, c;\n",
    "\n",
    "    y_array[0] = b_array[0];\n",
    "    for (r = 1; r < size; r++)\n",
    "    {\n",
    "        y_array[r] = b_array[r];\n",
    "        for (c = 0; c < r; c++)\n",
    "            y_array[r] -= l_matrix[r][c] * y_array[c];\n",
    "    }\n",
    "}\n",
    "\n",
    "/* solves the U*X=Y for X using regressive substitution */\n",
    "void solve_uxy(double **u_matrix, int size, double *x_array, double *y_array)\n",
    "{\n",
    "    int r, c;\n",
    "\n",
    "    x_array[size - 1] = y_array[size - 1] / u_matrix[size - 1][size - 1];\n",
    "    for (r = size - 2; r >= 0; r--)\n",
    "    {\n",
    "        for (c = size - 1; c > r; c--)\n",
    "            x_array[r] -= u_matrix[r][c] * x_array[c];\n",
    "\n",
    "        x_array[r] += y_array[r];\n",
    "        x_array[r] /= u_matrix[r][r];\n",
    "    }\n",
    "}\n",
    "\n",
    "int main(int argc, char **argv)\n",
    "{\n",
    "    int size = atoi(argv[1]);\n",
    "\n",
    "    double **A = alloc_matrix(size);\n",
    "    double *B = alloc_array(size);\n",
    "    double *Y = alloc_array(size);\n",
    "    double *X = alloc_array(size);\n",
    "\n",
    "    generate_ab_problem(size, A, B);\n",
    "\n",
    "    printf(\"\\nA\\n\");\n",
    "    print_matrix(A, size);\n",
    "    printf(\"\\nB\\n\");\n",
    "    print_array(B, size);\n",
    "\n",
    "    lu_decompose(A, size); // A now contains both L and U\n",
    "    solve_lyb(A, size, Y, B);\n",
    "    solve_uxy(A, size, X, Y);\n",
    "\n",
    "    printf(\"\\nL\\\\U\\n\");\n",
    "    print_matrix(A, size);\n",
    "    printf(\"\\nY\\n\");\n",
    "    print_array(Y, size);\n",
    "    printf(\"\\nX\\n\");\n",
    "    print_array(X, size);\n",
    "    \n",
    "    return 0;\n",
    "}"
   ]
  },
  {
   "cell_type": "markdown",
   "id": "d032891f-b960-4707-875b-2b8918053655",
   "metadata": {},
   "source": [
    "### Run the Code"
   ]
  },
  {
   "cell_type": "code",
   "execution_count": null,
   "id": "dce2b606-6346-4b68-8207-60c43beb05af",
   "metadata": {},
   "outputs": [],
   "source": [
    "!gcc lu.c -o lu"
   ]
  },
  {
   "cell_type": "code",
   "execution_count": null,
   "id": "ad2b7597-16ad-4c11-acc7-26710e8a7ee1",
   "metadata": {},
   "outputs": [],
   "source": [
    "!./lu 8"
   ]
  },
  {
   "cell_type": "markdown",
   "id": "b5fb1551-ae66-4e2e-b24e-6c5292a1d92f",
   "metadata": {},
   "source": [
    "## Work to be done\n",
    "\n",
    "The behaviour should be analysed and properly justified with the comparison of cyclical parallel version and experimental measurement of performance. The solution must be prepared and delivered containing a description of the implementation, performance graphs (execution time,\n",
    "speedup, etc.) and the conclusions."
   ]
  },
  {
   "cell_type": "markdown",
   "id": "449ba7bf-0f2f-4227-b9ff-801023cd8183",
   "metadata": {
    "tags": []
   },
   "source": [
    "## References"
   ]
  },
  {
   "cell_type": "markdown",
   "id": "4ee84136-f7ac-4210-b8c3-c1481662ecba",
   "metadata": {},
   "source": [
    "M. Boratto. Hands-On Supercomputing with Parallel Computing. Available: https://github.com/muriloboratto/Hands-On-Supercomputing-with-Parallel-Computing. 2022."
   ]
  },
  {
   "cell_type": "markdown",
   "id": "f07e1d2b-d5a6-46f7-bec9-c180876f5efe",
   "metadata": {},
   "source": [
    "B. Chapman, G. Jost and R. Pas. Using OpenMP: Portable Shared Memory Parallel Programming. The MIT Press, 2007, USA."
   ]
  },
  {
   "cell_type": "markdown",
   "id": "a7316f81-c26f-4a4d-9842-c13baaa15df2",
   "metadata": {},
   "source": [
    "F. Almeida, D. Giménez, J. M. Mantas and A. M. Vidal. *Introducción a la\n",
    "Programación Paralela*. Ed. Paraninfo, 2008, Spain.\n",
    "\n",
    "Forum, Message Passing Interface. *MPI: A Message-Passing Interface\n",
    "Standard*. University of Tennessee, 1994, USA."
   ]
  }
 ],
 "metadata": {
  "kernelspec": {
   "display_name": "Python 3 (ipykernel)",
   "language": "python",
   "name": "python3"
  },
  "language_info": {
   "codemirror_mode": {
    "name": "ipython",
    "version": 3
   },
   "file_extension": ".py",
   "mimetype": "text/x-python",
   "name": "python",
   "nbconvert_exporter": "python",
   "pygments_lexer": "ipython3",
   "version": "3.8.8"
  }
 },
 "nbformat": 4,
 "nbformat_minor": 5
}
